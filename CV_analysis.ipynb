{
  "nbformat": 4,
  "nbformat_minor": 0,
  "metadata": {
    "colab": {
      "provenance": []
    },
    "kernelspec": {
      "name": "python3",
      "display_name": "Python 3"
    },
    "language_info": {
      "name": "python"
    }
  },
  "cells": [
    {
      "cell_type": "code",
      "execution_count": null,
      "metadata": {
        "id": "okHnfHo7V9Ig"
      },
      "outputs": [],
      "source": []
    },
    {
      "source": [
        "!pip install pyresparser"
      ],
      "cell_type": "code",
      "metadata": {
        "colab": {
          "base_uri": "https://localhost:8080/"
        },
        "id": "7Gj1FjKMtUXd",
        "outputId": "5342167e-09ea-4542-a935-e3cb7291de09"
      },
      "execution_count": null,
      "outputs": [
        {
          "output_type": "stream",
          "name": "stdout",
          "text": [
            "Collecting pyresparser\n",
            "  Downloading pyresparser-1.0.6-py3-none-any.whl (4.2 MB)\n",
            "\u001b[2K     \u001b[90m━━━━━━━━━━━━━━━━━━━━━━━━━━━━━━━━━━━━━━━━\u001b[0m \u001b[32m4.2/4.2 MB\u001b[0m \u001b[31m30.7 MB/s\u001b[0m eta \u001b[36m0:00:00\u001b[0m\n",
            "\u001b[?25hRequirement already satisfied: attrs>=19.1.0 in /usr/local/lib/python3.10/dist-packages (from pyresparser) (23.2.0)\n",
            "Requirement already satisfied: blis>=0.2.4 in /usr/local/lib/python3.10/dist-packages (from pyresparser) (0.7.11)\n",
            "Requirement already satisfied: certifi>=2019.6.16 in /usr/local/lib/python3.10/dist-packages (from pyresparser) (2024.2.2)\n",
            "Requirement already satisfied: chardet>=3.0.4 in /usr/local/lib/python3.10/dist-packages (from pyresparser) (5.2.0)\n",
            "Requirement already satisfied: cymem>=2.0.2 in /usr/local/lib/python3.10/dist-packages (from pyresparser) (2.0.8)\n",
            "Collecting docx2txt>=0.7 (from pyresparser)\n",
            "  Downloading docx2txt-0.8.tar.gz (2.8 kB)\n",
            "  Preparing metadata (setup.py) ... \u001b[?25l\u001b[?25hdone\n",
            "Requirement already satisfied: idna>=2.8 in /usr/local/lib/python3.10/dist-packages (from pyresparser) (3.6)\n",
            "Requirement already satisfied: jsonschema>=3.0.1 in /usr/local/lib/python3.10/dist-packages (from pyresparser) (4.19.2)\n",
            "Requirement already satisfied: nltk>=3.4.3 in /usr/local/lib/python3.10/dist-packages (from pyresparser) (3.8.1)\n",
            "Requirement already satisfied: numpy>=1.16.4 in /usr/local/lib/python3.10/dist-packages (from pyresparser) (1.25.2)\n",
            "Requirement already satisfied: pandas>=0.24.2 in /usr/local/lib/python3.10/dist-packages (from pyresparser) (1.5.3)\n",
            "Collecting pdfminer.six>=20181108 (from pyresparser)\n",
            "  Downloading pdfminer.six-20231228-py3-none-any.whl (5.6 MB)\n",
            "\u001b[2K     \u001b[90m━━━━━━━━━━━━━━━━━━━━━━━━━━━━━━━━━━━━━━━━\u001b[0m \u001b[32m5.6/5.6 MB\u001b[0m \u001b[31m69.0 MB/s\u001b[0m eta \u001b[36m0:00:00\u001b[0m\n",
            "\u001b[?25hRequirement already satisfied: preshed>=2.0.1 in /usr/local/lib/python3.10/dist-packages (from pyresparser) (3.0.9)\n",
            "Collecting pycryptodome>=3.8.2 (from pyresparser)\n",
            "  Downloading pycryptodome-3.20.0-cp35-abi3-manylinux_2_17_x86_64.manylinux2014_x86_64.whl (2.1 MB)\n",
            "\u001b[2K     \u001b[90m━━━━━━━━━━━━━━━━━━━━━━━━━━━━━━━━━━━━━━━━\u001b[0m \u001b[32m2.1/2.1 MB\u001b[0m \u001b[31m71.1 MB/s\u001b[0m eta \u001b[36m0:00:00\u001b[0m\n",
            "\u001b[?25hCollecting pyrsistent>=0.15.2 (from pyresparser)\n",
            "  Downloading pyrsistent-0.20.0-cp310-cp310-manylinux_2_17_x86_64.manylinux2014_x86_64.whl (117 kB)\n",
            "\u001b[2K     \u001b[90m━━━━━━━━━━━━━━━━━━━━━━━━━━━━━━━━━━━━━━━━\u001b[0m \u001b[32m117.7/117.7 kB\u001b[0m \u001b[31m9.7 MB/s\u001b[0m eta \u001b[36m0:00:00\u001b[0m\n",
            "\u001b[?25hRequirement already satisfied: python-dateutil>=2.8.0 in /usr/local/lib/python3.10/dist-packages (from pyresparser) (2.8.2)\n",
            "Requirement already satisfied: pytz>=2019.1 in /usr/local/lib/python3.10/dist-packages (from pyresparser) (2023.4)\n",
            "Requirement already satisfied: requests>=2.22.0 in /usr/local/lib/python3.10/dist-packages (from pyresparser) (2.31.0)\n",
            "Requirement already satisfied: six>=1.12.0 in /usr/local/lib/python3.10/dist-packages (from pyresparser) (1.16.0)\n",
            "Requirement already satisfied: sortedcontainers>=2.1.0 in /usr/local/lib/python3.10/dist-packages (from pyresparser) (2.4.0)\n",
            "Requirement already satisfied: spacy>=2.1.4 in /usr/local/lib/python3.10/dist-packages (from pyresparser) (3.7.4)\n",
            "Requirement already satisfied: srsly>=0.0.7 in /usr/local/lib/python3.10/dist-packages (from pyresparser) (2.4.8)\n",
            "Requirement already satisfied: thinc>=7.0.4 in /usr/local/lib/python3.10/dist-packages (from pyresparser) (8.2.3)\n",
            "Requirement already satisfied: tqdm>=4.32.2 in /usr/local/lib/python3.10/dist-packages (from pyresparser) (4.66.2)\n",
            "Requirement already satisfied: urllib3>=1.25.3 in /usr/local/lib/python3.10/dist-packages (from pyresparser) (2.0.7)\n",
            "Requirement already satisfied: wasabi>=0.2.2 in /usr/local/lib/python3.10/dist-packages (from pyresparser) (1.1.2)\n",
            "Requirement already satisfied: jsonschema-specifications>=2023.03.6 in /usr/local/lib/python3.10/dist-packages (from jsonschema>=3.0.1->pyresparser) (2023.12.1)\n",
            "Requirement already satisfied: referencing>=0.28.4 in /usr/local/lib/python3.10/dist-packages (from jsonschema>=3.0.1->pyresparser) (0.34.0)\n",
            "Requirement already satisfied: rpds-py>=0.7.1 in /usr/local/lib/python3.10/dist-packages (from jsonschema>=3.0.1->pyresparser) (0.18.0)\n",
            "Requirement already satisfied: click in /usr/local/lib/python3.10/dist-packages (from nltk>=3.4.3->pyresparser) (8.1.7)\n",
            "Requirement already satisfied: joblib in /usr/local/lib/python3.10/dist-packages (from nltk>=3.4.3->pyresparser) (1.3.2)\n",
            "Requirement already satisfied: regex>=2021.8.3 in /usr/local/lib/python3.10/dist-packages (from nltk>=3.4.3->pyresparser) (2023.12.25)\n",
            "Requirement already satisfied: charset-normalizer>=2.0.0 in /usr/local/lib/python3.10/dist-packages (from pdfminer.six>=20181108->pyresparser) (3.3.2)\n",
            "Requirement already satisfied: cryptography>=36.0.0 in /usr/local/lib/python3.10/dist-packages (from pdfminer.six>=20181108->pyresparser) (42.0.5)\n",
            "Requirement already satisfied: murmurhash<1.1.0,>=0.28.0 in /usr/local/lib/python3.10/dist-packages (from preshed>=2.0.1->pyresparser) (1.0.10)\n",
            "Requirement already satisfied: spacy-legacy<3.1.0,>=3.0.11 in /usr/local/lib/python3.10/dist-packages (from spacy>=2.1.4->pyresparser) (3.0.12)\n",
            "Requirement already satisfied: spacy-loggers<2.0.0,>=1.0.0 in /usr/local/lib/python3.10/dist-packages (from spacy>=2.1.4->pyresparser) (1.0.5)\n",
            "Requirement already satisfied: catalogue<2.1.0,>=2.0.6 in /usr/local/lib/python3.10/dist-packages (from spacy>=2.1.4->pyresparser) (2.0.10)\n",
            "Requirement already satisfied: weasel<0.4.0,>=0.1.0 in /usr/local/lib/python3.10/dist-packages (from spacy>=2.1.4->pyresparser) (0.3.4)\n",
            "Requirement already satisfied: typer<0.10.0,>=0.3.0 in /usr/local/lib/python3.10/dist-packages (from spacy>=2.1.4->pyresparser) (0.9.4)\n",
            "Requirement already satisfied: smart-open<7.0.0,>=5.2.1 in /usr/local/lib/python3.10/dist-packages (from spacy>=2.1.4->pyresparser) (6.4.0)\n",
            "Requirement already satisfied: pydantic!=1.8,!=1.8.1,<3.0.0,>=1.7.4 in /usr/local/lib/python3.10/dist-packages (from spacy>=2.1.4->pyresparser) (2.6.4)\n",
            "Requirement already satisfied: jinja2 in /usr/local/lib/python3.10/dist-packages (from spacy>=2.1.4->pyresparser) (3.1.3)\n",
            "Requirement already satisfied: setuptools in /usr/local/lib/python3.10/dist-packages (from spacy>=2.1.4->pyresparser) (67.7.2)\n",
            "Requirement already satisfied: packaging>=20.0 in /usr/local/lib/python3.10/dist-packages (from spacy>=2.1.4->pyresparser) (24.0)\n",
            "Requirement already satisfied: langcodes<4.0.0,>=3.2.0 in /usr/local/lib/python3.10/dist-packages (from spacy>=2.1.4->pyresparser) (3.3.0)\n",
            "Requirement already satisfied: confection<1.0.0,>=0.0.1 in /usr/local/lib/python3.10/dist-packages (from thinc>=7.0.4->pyresparser) (0.1.4)\n",
            "Requirement already satisfied: cffi>=1.12 in /usr/local/lib/python3.10/dist-packages (from cryptography>=36.0.0->pdfminer.six>=20181108->pyresparser) (1.16.0)\n",
            "Requirement already satisfied: annotated-types>=0.4.0 in /usr/local/lib/python3.10/dist-packages (from pydantic!=1.8,!=1.8.1,<3.0.0,>=1.7.4->spacy>=2.1.4->pyresparser) (0.6.0)\n",
            "Requirement already satisfied: pydantic-core==2.16.3 in /usr/local/lib/python3.10/dist-packages (from pydantic!=1.8,!=1.8.1,<3.0.0,>=1.7.4->spacy>=2.1.4->pyresparser) (2.16.3)\n",
            "Requirement already satisfied: typing-extensions>=4.6.1 in /usr/local/lib/python3.10/dist-packages (from pydantic!=1.8,!=1.8.1,<3.0.0,>=1.7.4->spacy>=2.1.4->pyresparser) (4.10.0)\n",
            "Requirement already satisfied: cloudpathlib<0.17.0,>=0.7.0 in /usr/local/lib/python3.10/dist-packages (from weasel<0.4.0,>=0.1.0->spacy>=2.1.4->pyresparser) (0.16.0)\n",
            "Requirement already satisfied: MarkupSafe>=2.0 in /usr/local/lib/python3.10/dist-packages (from jinja2->spacy>=2.1.4->pyresparser) (2.1.5)\n",
            "Requirement already satisfied: pycparser in /usr/local/lib/python3.10/dist-packages (from cffi>=1.12->cryptography>=36.0.0->pdfminer.six>=20181108->pyresparser) (2.21)\n",
            "Building wheels for collected packages: docx2txt\n",
            "  Building wheel for docx2txt (setup.py) ... \u001b[?25l\u001b[?25hdone\n",
            "  Created wheel for docx2txt: filename=docx2txt-0.8-py3-none-any.whl size=3960 sha256=38190c91c6caa02c4b6dbacdf7f145dbfa70ab3c551d99838eb822c966150bca\n",
            "  Stored in directory: /root/.cache/pip/wheels/22/58/cf/093d0a6c3ecfdfc5f6ddd5524043b88e59a9a199cb02352966\n",
            "Successfully built docx2txt\n",
            "Installing collected packages: docx2txt, pyrsistent, pycryptodome, pdfminer.six, pyresparser\n",
            "Successfully installed docx2txt-0.8 pdfminer.six-20231228 pycryptodome-3.20.0 pyresparser-1.0.6 pyrsistent-0.20.0\n"
          ]
        }
      ]
    },
    {
      "source": [
        "!pip install nltk"
      ],
      "cell_type": "code",
      "metadata": {
        "colab": {
          "base_uri": "https://localhost:8080/"
        },
        "id": "L33e0LqXtmLb",
        "outputId": "ebcc1773-056a-4bd8-9b3e-8557dce272d6"
      },
      "execution_count": null,
      "outputs": [
        {
          "output_type": "stream",
          "name": "stdout",
          "text": [
            "Requirement already satisfied: nltk in /usr/local/lib/python3.10/dist-packages (3.8.1)\n",
            "Requirement already satisfied: click in /usr/local/lib/python3.10/dist-packages (from nltk) (8.1.7)\n",
            "Requirement already satisfied: joblib in /usr/local/lib/python3.10/dist-packages (from nltk) (1.3.2)\n",
            "Requirement already satisfied: regex>=2021.8.3 in /usr/local/lib/python3.10/dist-packages (from nltk) (2023.12.25)\n",
            "Requirement already satisfied: tqdm in /usr/local/lib/python3.10/dist-packages (from nltk) (4.66.2)\n"
          ]
        }
      ]
    },
    {
      "source": [
        "import nltk\n",
        "nltk.download('stopwords')"
      ],
      "cell_type": "code",
      "metadata": {
        "colab": {
          "base_uri": "https://localhost:8080/"
        },
        "id": "OO4PC9rhtmij",
        "outputId": "b4e1b895-1081-4a12-d82a-8cebd2b9b60e"
      },
      "execution_count": null,
      "outputs": [
        {
          "output_type": "stream",
          "name": "stderr",
          "text": [
            "[nltk_data] Downloading package stopwords to /root/nltk_data...\n",
            "[nltk_data]   Unzipping corpora/stopwords.zip.\n"
          ]
        },
        {
          "output_type": "execute_result",
          "data": {
            "text/plain": [
              "True"
            ]
          },
          "metadata": {},
          "execution_count": 6
        }
      ]
    },
    {
      "source": [
        "from nltk.corpus import stopwords"
      ],
      "cell_type": "code",
      "metadata": {
        "id": "dBuUe7Zytm1x"
      },
      "execution_count": null,
      "outputs": []
    },
    {
      "source": [
        "import pyresparser"
      ],
      "cell_type": "code",
      "metadata": {
        "id": "ev4RYdqitnRN"
      },
      "execution_count": null,
      "outputs": []
    },
    {
      "cell_type": "code",
      "source": [
        "import os\n",
        "import pandas as pd\n",
        "import numpy as np\n",
        "from tkinter import *\n",
        "from tkinter import filedialog\n",
        "import tkinter.font as font\n",
        "from functools import partial\n",
        "from pyresparser import ResumeParser\n",
        "from sklearn import datasets, linear_model"
      ],
      "metadata": {
        "id": "dSjTiWDKt0hM"
      },
      "execution_count": null,
      "outputs": []
    },
    {
      "cell_type": "code",
      "source": [
        "def train(self):\n",
        "        data =pd.read_csv('training_dataset.csv')\n",
        "        array = data.values\n",
        "\n",
        "        for i in range(len(array)):\n",
        "            if array[i][0]==\"Male\":\n",
        "                array[i][0]=1\n",
        "            else:\n",
        "                array[i][0]=0\n",
        "\n",
        "\n",
        "        df=pd.DataFrame(array)\n",
        "\n",
        "        maindf =df[[0,1,2,3,4,5,6]]\n",
        "        mainarray=maindf.values\n",
        "\n",
        "        temp=df[7]\n",
        "        train_y =temp.values\n",
        "\n",
        "        self.mul_lr = linear_model.LogisticRegression(multi_class='multinomial', solver='newton-cg',max_iter =1000)\n",
        "        self.mul_lr.fit(mainarray, train_y)"
      ],
      "metadata": {
        "id": "jESgoKVct88S"
      },
      "execution_count": null,
      "outputs": []
    },
    {
      "cell_type": "code",
      "source": [
        " def test(self, test_data):\n",
        "        try:\n",
        "            test_predict=list()\n",
        "            for i in test_data:\n",
        "                test_predict.append(int(i))\n",
        "            y_pred = self.mul_lr.predict([test_predict])\n",
        "            return y_pred\n",
        "        except:\n",
        "            print(\"All Factors For Finding Personality Not Entered!\")\n"
      ],
      "metadata": {
        "id": "o7NtlCxkvF8n"
      },
      "execution_count": null,
      "outputs": []
    },
    {
      "cell_type": "code",
      "source": [
        "def check_type(data):\n",
        "    if type(data)==str or type(data)==str:\n",
        "        return str(data).title()\n",
        "    if type(data)==list or type(data)==tuple:\n",
        "        str_list=\"\"\n",
        "        for i,item in enumerate(data):\n",
        "            str_list+=item+\", \"\n",
        "        return str_list\n",
        "    else:   return str(data)"
      ],
      "metadata": {
        "id": "ZaZ6pjI_vNXR"
      },
      "execution_count": null,
      "outputs": []
    },
    {
      "cell_type": "code",
      "source": [
        "def prediction_result(top, aplcnt_name, cv_path, personality_values):\n",
        "    \"after applying a job\"\n",
        "    top.withdraw()\n",
        "    applicant_data={\"Candidate Name\":aplcnt_name.get(),  \"CV Location\":cv_path}\n",
        "\n",
        "    age = personality_values[1]\n",
        "\n",
        "    print(\"\\n############# Candidate Entered Data #############\\n\")\n",
        "    print(applicant_data, personality_values)\n",
        "\n",
        "    personality = model.test(personality_values)\n",
        "    print(\"\\n############# Predicted Personality #############\\n\")\n",
        "    print(personality)\n",
        "    data = ResumeParser(cv_path).get_extracted_data()\n",
        "\n",
        "    try:\n",
        "        del data['name']\n",
        "        if len(data['mobile_number'])<10:\n",
        "            del data['mobile_number']\n",
        "    except:\n",
        "        pass\n",
        "\n",
        "    print(\"\\n############# Resume Parsed Data #############\\n\")\n",
        "\n",
        "    for key in data.keys():\n",
        "        if data[key] is not None:\n",
        "            print('{} : {}'.format(key,data[key]))\n",
        "\n",
        "    result=Tk()\n",
        "  #  result.geometry('700x550')\n",
        "    result.overrideredirect(False)\n",
        "    result.geometry(\"{0}x{1}+0+0\".format(result.winfo_screenwidth(), result.winfo_screenheight()))\n",
        "    result.configure(background='White')\n",
        "    result.title(\"Predicted Personality\")\n",
        "\n",
        "    #Title\n",
        "    titleFont = font.Font(family='Arial', size=40, weight='bold')\n",
        "    Label(result, text=\"Result - Personality Prediction\", foreground='green', bg='white', font=titleFont, pady=10, anchor=CENTER).pack(fill=BOTH)\n",
        "\n",
        "    Label(result, text = str('{} : {}'.format(\"Name:\", aplcnt_name.get())).title(), foreground='black', bg='white', anchor='w').pack(fill=BOTH)\n",
        "    Label(result, text = str('{} : {}'.format(\"Age:\", age)), foreground='black', bg='white', anchor='w').pack(fill=BOTH)\n",
        "    for key in data.keys():\n",
        "        if data[key] is not None:\n",
        "            Label(result, text = str('{} : {}'.format(check_type(key.title()),check_type(data[key]))), foreground='black', bg='white', anchor='w', width=60).pack(fill=BOTH)\n",
        "    Label(result, text = str(\"perdicted personality: \"+personality).title(), foreground='black', bg='white', anchor='w').pack(fill=BOTH)\n",
        "\n",
        "    quitBtn = Button(result, text=\"Exit\", command =lambda:  result.destroy()).pack()\n",
        "\n",
        "    terms_mean = \"\"\"\n",
        "# Openness:\n",
        "    People who like to learn new things and enjoy new experiences usually score high in openness. Openness includes traits like being insightful and imaginative and having a wide variety of interests.\n",
        "\n",
        "# Conscientiousness:\n",
        "    People that have a high degree of conscientiousness are reliable and prompt. Traits include being organised, methodic, and thorough.\n",
        "\n",
        "# Extraversion:\n",
        "    Extraversion traits include being; energetic, talkative, and assertive (sometime seen as outspoken by Introverts). Extraverts get their energy and drive from others, while introverts are self-driven get their drive from within themselves.\n",
        "\n",
        "# Agreeableness:\n",
        "    As it perhaps sounds, these individuals are warm, friendly, compassionate and cooperative and traits include being kind, affectionate, and sympathetic. In contrast, people with lower levels of agreeableness may be more distant.\n",
        "\n",
        "# Neuroticism:\n",
        "    Neuroticism or Emotional Stability relates to degree of negative emotions. People that score high on neuroticism often experience emotional instability and negative emotions. Characteristics typically include being moody and tense.\n",
        "\"\"\"\n",
        "\n",
        "    Label(result, text = terms_mean, foreground='green', bg='white', anchor='w', justify=LEFT).pack(fill=BOTH)\n",
        "\n",
        "    result.mainloop()"
      ],
      "metadata": {
        "id": "FJ9ePOISvNfW"
      },
      "execution_count": null,
      "outputs": []
    },
    {
      "cell_type": "code",
      "source": [
        "def perdict_person():\n",
        "    \"\"\"Predict Personality\"\"\"\n",
        "\n",
        "    # Closing The Previous Window\n",
        "    root.withdraw()\n",
        "\n",
        "    # Creating new window\n",
        "    top = Toplevel()\n",
        "    top.geometry('700x500')\n",
        "    top.configure(background='black')\n",
        "    top.title(\"Apply For A Job\")\n",
        "\n",
        "    #Title\n",
        "    titleFont = font.Font(family='Helvetica', size=20, weight='bold')\n",
        "    lab=Label(top, text=\"Personality Prediction\", foreground='red', bg='black', font=titleFont, pady=10).pack()\n",
        "\n",
        "    #Job_Form\n",
        "    job_list=('Select Job', '101-Developer at TTC', '102-Chef at Taj', '103-Professor at MIT')\n",
        "    job = StringVar(top)\n",
        "    job.set(job_list[0])\n",
        "\n",
        "    l1=Label(top, text=\"Applicant Name\", foreground='white', bg='black').place(x=70, y=130)\n",
        "    l2=Label(top, text=\"Age\", foreground='white', bg='black').place(x=70, y=160)\n",
        "    l3=Label(top, text=\"Gender\", foreground='white', bg='black').place(x=70, y=190)\n",
        "    l4=Label(top, text=\"Upload Resume\", foreground='white', bg='black').place(x=70, y=220)\n",
        "    l5=Label(top, text=\"Enjoy New Experience or thing(Openness)\", foreground='white', bg='black').place(x=70, y=250)\n",
        "    l6=Label(top, text=\"How Offen You Feel Negativity(Neuroticism)\", foreground='white', bg='black').place(x=70, y=280)\n",
        "    l7=Label(top, text=\"Wishing to do one's work well and thoroughly(Conscientiousness)\", foreground='white', bg='black').place(x=70, y=310)\n",
        "    l8=Label(top, text=\"How much would you like work with your peers(Agreeableness)\", foreground='white', bg='black').place(x=70, y=340)\n",
        "    l9=Label(top, text=\"How outgoing and social interaction you like(Extraversion)\", foreground='white', bg='black').place(x=70, y=370)\n",
        "\n",
        "    sName=Entry(top)\n",
        "    sName.place(x=450, y=130, width=160)\n",
        "    age=Entry(top)\n",
        "    age.place(x=450, y=160, width=160)\n",
        "    gender = IntVar()\n",
        "    R1 = Radiobutton(top, text=\"Male\", variable=gender, value=1, padx=7)\n",
        "    R1.place(x=450, y=190)\n",
        "    R2 = Radiobutton(top, text=\"Female\", variable=gender, value=0, padx=3)\n",
        "    R2.place(x=540, y=190)\n",
        "    cv=Button(top, text=\"Select File\", command=lambda:  OpenFile(cv))\n",
        "    cv.place(x=450, y=220, width=160)\n",
        "    openness=Entry(top)\n",
        "    openness.insert(0,'1-10')\n",
        "    openness.place(x=450, y=250, width=160)\n",
        "    neuroticism=Entry(top)\n",
        "    neuroticism.insert(0,'1-10')\n",
        "    neuroticism.place(x=450, y=280, width=160)\n",
        "    conscientiousness=Entry(top)\n",
        "    conscientiousness.insert(0,'1-10')\n",
        "    conscientiousness.place(x=450, y=310, width=160)\n",
        "    agreeableness=Entry(top)\n",
        "    agreeableness.insert(0,'1-10')\n",
        "    agreeableness.place(x=450, y=340, width=160)\n",
        "    extraversion=Entry(top)\n",
        "    extraversion.insert(0,'1-10')\n",
        "    extraversion.place(x=450, y=370, width=160)\n",
        "\n",
        "    submitBtn=Button(top, padx=2, pady=0, text=\"Submit\", bd=0, foreground='white', bg='red', font=(12))\n",
        "    submitBtn.config(command=lambda: prediction_result(top,sName,loc,(gender.get(),age.get(),openness.get(),neuroticism.get(),conscientiousness.get(),agreeableness.get(),extraversion.get())))\n",
        "    submitBtn.place(x=350, y=400, width=200)\n",
        "\n",
        "\n",
        "    top.mainloop()"
      ],
      "metadata": {
        "id": "KdunQjp6vd7n"
      },
      "execution_count": null,
      "outputs": []
    },
    {
      "cell_type": "code",
      "source": [],
      "metadata": {
        "id": "PmXYETJvwQmW"
      },
      "execution_count": null,
      "outputs": []
    },
    {
      "source": [
        "\n",
        "!pip install Pillow"
      ],
      "cell_type": "code",
      "metadata": {
        "colab": {
          "base_uri": "https://localhost:8080/"
        },
        "id": "pFOt8tJzwRQ5",
        "outputId": "7faf5db3-3024-4791-ef7e-2b51cff574da"
      },
      "execution_count": null,
      "outputs": [
        {
          "output_type": "stream",
          "name": "stdout",
          "text": [
            "Requirement already satisfied: Pillow in /usr/local/lib/python3.10/dist-packages (9.4.0)\n"
          ]
        }
      ]
    },
    {
      "cell_type": "code",
      "source": [],
      "metadata": {
        "id": "ez4UQy3fwdCH"
      },
      "execution_count": null,
      "outputs": []
    },
    {
      "source": [
        "from tkinter import *\n",
        "from tkinter import font\n",
        "from tkinter import filedialog\n",
        "import os"
      ],
      "cell_type": "code",
      "metadata": {
        "id": "camd4hdSweeE"
      },
      "execution_count": null,
      "outputs": []
    },
    {
      "source": [
        "def train_model():\n",
        "    # Your model training code here\n",
        "    # ...\n",
        "    return model"
      ],
      "cell_type": "code",
      "metadata": {
        "id": "83wMigzjwhaU"
      },
      "execution_count": null,
      "outputs": []
    },
    {
      "cell_type": "code",
      "source": [
        "def OpenFile(b4):\n",
        "    global loc;\n",
        "    name = filedialog.askopenfilename(initialdir=\"C:/Users/Batman/Documents/Programming/tkinter/\",\n",
        "                            filetypes =((\"Document\",\"*.docx*\"),(\"PDF\",\"*.pdf*\"),('All files', '*')),\n",
        "                           title = \"Choose a file.\"\n",
        "                           )\n",
        "    try:\n",
        "        filename=os.path.basename(name)\n",
        "        loc=name\n",
        "    except:\n",
        "        filename=name\n",
        "        loc=name\n",
        "    b4.config(text=filename)\n",
        "    return\n",
        "\n",
        "\n",
        "\n",
        "if __name__ == \"__main__\":\n",
        "  def train_model():\n",
        "    model = train_model()\n",
        "    model.train()\n",
        "\n",
        "    root = Tk()\n",
        "    root.geometry('700x500')\n",
        "    root.configure(background='white')\n",
        "    root.title(\"Personality Prediction System\")\n",
        "    titleFont = font.Font(family='Helvetica', size=25, weight='bold')\n",
        "    homeBtnFont = font.Font(size=12, weight='bold')\n",
        "    lab=Label(root, text=\"Personality Prediction System\", bg='white', font=titleFont, pady=30).pack()\n",
        "    b2=Button(root, padx=4, pady=4, width=30, text=\"Predict Personality\", bg='black', foreground='white', bd=1, font=homeBtnFont, command=perdict_person).place(relx=0.5, rely=0.5, anchor=CENTER)\n",
        "    root.mainloop()\n",
        "    return model"
      ],
      "metadata": {
        "id": "lMbMNKC3vm8a"
      },
      "execution_count": null,
      "outputs": []
    }
  ]
}